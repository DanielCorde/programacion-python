{
 "cells": [
  {
   "cell_type": "markdown",
   "metadata": {},
   "source": [
    "# Ejercicios"
   ]
  },
  {
   "cell_type": "markdown",
   "metadata": {},
   "source": [
    "## Ejercicio 1\n",
    "\n",
    "Escribir un programa que pregunte al usuario su nombre, edad, dirección y teléfono y lo guarde en un diccionario. Después debe mostrar por pantalla el mensaje \n",
    "\n",
    "`<nombre> tiene <edad> años, vive en <dirección> y su número de teléfono es <teléfono>.`"
   ]
  },
  {
   "cell_type": "code",
   "execution_count": 1,
   "metadata": {},
   "outputs": [
    {
     "name": "stdout",
     "output_type": "stream",
     "text": [
      "{'nombre': 'Ana', 'edad': '17', 'direccion': 'Avda de Galicia', 'telefono': '78456134'}\n"
     ]
    }
   ],
   "source": [
    "datos = {}\n",
    "nombre = input(\"Nombre: \")\n",
    "datos[\"nombre\"] = nombre\n",
    "edad = input(\"Edad: \")\n",
    "datos[\"edad\"] = edad\n",
    "direccion = input(\"Direccion: \")\n",
    "datos[\"direccion\"] = direccion\n",
    "telefono = input(\"Telefono: \")\n",
    "datos[\"telefono\"] = telefono\n",
    "\n",
    "print(datos)"
   ]
  },
  {
   "cell_type": "markdown",
   "metadata": {},
   "source": [
    "## Ejercicio 2\n",
    "\n",
    "Escribe un programa que lea una cadena y devuelva un diccionario con la cantidad de apariciones de cada vocal en la cadena."
   ]
  },
  {
   "cell_type": "code",
   "execution_count": 2,
   "metadata": {},
   "outputs": [
    {
     "name": "stdout",
     "output_type": "stream",
     "text": [
      "{'a': 1, 'e': 1, 'i': 1, 'o': 1, 'u': 1}\n"
     ]
    }
   ],
   "source": [
    "cadena = input(\"Cadena: \")\n",
    "cuenta_vocales = {\"a\": 0, \"e\": 0, \"i\": 0, \"o\": 0, \"u\": 0}\n",
    "for letra in cadena:\n",
    "    if letra in \"aAáÁ\":\n",
    "        cuenta_vocales[\"a\"] += 1\n",
    "    elif letra in \"eEéÉ\":\n",
    "        cuenta_vocales[\"e\"] += 1\n",
    "    elif letra in \"iIíÍ\":\n",
    "        cuenta_vocales[\"i\"] += 1\n",
    "    elif letra in \"oOóÓ\":\n",
    "        cuenta_vocales[\"o\"] += 1\n",
    "    elif letra in \"uUúÚ\":\n",
    "        cuenta_vocales[\"u\"] += 1\n",
    "print(cuenta_vocales)"
   ]
  },
  {
   "cell_type": "code",
   "execution_count": 3,
   "metadata": {},
   "outputs": [
    {
     "name": "stdout",
     "output_type": "stream",
     "text": [
      "{'a': 1, 'e': 1, 'i': 1, 'o': 1, 'u': 1}\n"
     ]
    }
   ],
   "source": [
    "cadena = input(\"Cadena: \")\n",
    "cuenta_vocales = {\"a\": 0, \"e\": 0, \"i\": 0, \"o\": 0, \"u\": 0}\n",
    "for letra in cadena:\n",
    "    if letra in cuenta_vocales:\n",
    "        cuenta_vocales[letra] += 1\n",
    "print(cuenta_vocales)"
   ]
  },
  {
   "cell_type": "markdown",
   "metadata": {},
   "source": [
    "## Ejercicio 3\n",
    "\n",
    "Escribe un programa que cuente la frecuencia de las palabras en una cadena de texto dada. El programa debe devolver un diccionario donde las claves sean las palabras y los valores sean la frecuencia de cada palabra.\n",
    "\n",
    "Puedes realizar este ejercicio de Codewars que es muy similar: https://www.codewars.com/kata/578de3801499359921000130\n"
   ]
  },
  {
   "cell_type": "code",
   "execution_count": 4,
   "metadata": {},
   "outputs": [
    {
     "name": "stdout",
     "output_type": "stream",
     "text": [
      "{'hola': 1, 'que': 2, 'tal': 3}\n"
     ]
    }
   ],
   "source": [
    "cadena = input(\"Cadena: \")\n",
    "palabras = cadena.lower().split()\n",
    "cuenta_palabras = {}\n",
    "for palabra in palabras:\n",
    "    if palabra not in cuenta_palabras:\n",
    "        cuenta_palabras[palabra] = 1\n",
    "    else:\n",
    "        cuenta_palabras[palabra] += 1\n",
    "\n",
    "print(cuenta_palabras)"
   ]
  },
  {
   "cell_type": "code",
   "execution_count": 5,
   "metadata": {},
   "outputs": [
    {
     "name": "stdout",
     "output_type": "stream",
     "text": [
      "{'hola': 1, 'que': 2, 'tal': 3}\n"
     ]
    }
   ],
   "source": [
    "cadena = input(\"Cadena: \")\n",
    "palabras = cadena.lower().split()\n",
    "cuenta_palabras = {}\n",
    "for palabra in palabras:\n",
    "    if palabra not in cuenta_palabras:\n",
    "        cuenta_palabras[palabra] = 0\n",
    "    cuenta_palabras[palabra] += 1\n",
    "\n",
    "print(cuenta_palabras)"
   ]
  },
  {
   "cell_type": "markdown",
   "metadata": {},
   "source": [
    "## Ejericio 4\n",
    "\n",
    "Escribe un programa que a partir de dos tuplas, una con nombres y otra con edades las convierta en un diccionario donde las claves sean los nombres y los valores sean las edades."
   ]
  },
  {
   "cell_type": "code",
   "execution_count": 6,
   "metadata": {},
   "outputs": [
    {
     "name": "stdout",
     "output_type": "stream",
     "text": [
      "{'Ana': 19, 'Juan': 21, 'Antonio': 18, 'Pedro': 20, 'María': 22}\n"
     ]
    }
   ],
   "source": [
    "nombres = (\"Ana\", \"Juan\", \"Antonio\", \"Pedro\", \"María\")\n",
    "edades = (19, 21, 18, 20, 22)\n",
    "diccionario = {}\n",
    "if len(nombres) == len(edades):\n",
    "    for i in range(len(nombres)):\n",
    "        diccionario[nombres[i]] = edades[i]\n",
    "else:\n",
    "    print(\"El número de nombres y edades no es el mismo\")\n",
    "\n",
    "print(diccionario)"
   ]
  },
  {
   "cell_type": "markdown",
   "metadata": {},
   "source": [
    "## Ejercicio 5\n",
    "\n",
    "Escribe un programa que utilice un diccionario como lista de la compra. La clave será el nombre del producto y el valor será la cantidad. El programa irá pidiendo los productos y la cantidad que se ha comprado, y los irá añadiendo al diccionario. \n",
    "\n",
    "El programa mostrará la lista de la compra.\n",
    "\n",
    "```python\n",
    "Producto    Cantidad\n",
    "Manzanas    2\n",
    "Peras       3\n",
    "Naranjas    1\n",
    "```\n",
    "\n",
    "Añade un nuevo diccionario que relacione el producto con su precio unitario. \n",
    "\n",
    "Tu programa debe usar ambos diccionarios para mostrar el ticket de compra con el precio total de la compra de cada producto y el precio total de la compra.\n",
    "\n",
    "```python\n",
    "Producto    Cantidad    Precio unitario    Precio total\n",
    "Manzanas    2           0.35 €             0.7 €\n",
    "Peras       3           0.40 €             1.2 €\n",
    "Naranjas    1           0.50 €             0.5 €\n",
    "\n",
    "TOTAL                                      2.4 € \n",
    "```"
   ]
  },
  {
   "cell_type": "code",
   "execution_count": 13,
   "metadata": {},
   "outputs": [
    {
     "name": "stdout",
     "output_type": "stream",
     "text": [
      "Producto\tCantidad\tPrezo unitario\tPrezo\n",
      "Mazás\t\t2\t\t2.5\t\t5.0\n",
      "TOTAL\t\t\t\t\t\t5.0\n"
     ]
    }
   ],
   "source": [
    "lista_compra = {}\n",
    "prezos = {}\n",
    "respuesta = \"S\"\n",
    "while respuesta in \"Ss\":\n",
    "    producto = input(\"Producto: \")\n",
    "    cantidad = int(input(\"Cantidad: \"))\n",
    "    lista_compra[producto] = cantidad\n",
    "    prezo = float(input(\"Prezo: \"))\n",
    "    prezos[producto] = prezo\n",
    "    respuesta = input(\"¿Seguir? (S/N) \")\n",
    "\n",
    "total = 0\n",
    "print(\"Producto\\tCantidad\\tPrezo unitario\\tPrezo\")\n",
    "for producto in lista_compra:\n",
    "    prezo_total_producto = lista_compra[producto] * prezos[producto]\n",
    "    print(f\"{producto}\\t\\t{lista_compra[producto]}\\t\\t{prezos[producto]}\\t\\t{prezo_total_producto}\")\n",
    "    total += prezo_total_producto\n",
    "\n",
    "print(\"TOTAL\" + \"\\t\"*6 + f\"{total}\")\n"
   ]
  },
  {
   "cell_type": "markdown",
   "metadata": {},
   "source": [
    "## Ejercicio 6\n",
    "\n",
    "De cara a preparar la cena de fin de año, una familia almacena en una tupla las distintas posibilidades y pregunta a los asistentes a la cena cuál de ellas prefieren. Crea un programa en Python que:\n",
    "\n",
    "- Declare dicha tupla y muestre un menú que pregunte a los asistentes cuál es su opción preferida (esto deberá repetirse hasta que se indique que no hay más personas por decidir).\n",
    "- Almacene en una lista unidimensional las elecciones de los asistentes (pueden estar repetidas).\n",
    "- Crea una función a la que se le pase la lista creada anteriormente y devuelva un diccionario con el número de veces que se eligió cada opción."
   ]
  }
 ],
 "metadata": {
  "kernelspec": {
   "display_name": "Python 3",
   "language": "python",
   "name": "python3"
  },
  "language_info": {
   "codemirror_mode": {
    "name": "ipython",
    "version": 3
   },
   "file_extension": ".py",
   "mimetype": "text/x-python",
   "name": "python",
   "nbconvert_exporter": "python",
   "pygments_lexer": "ipython3",
   "version": "3.12.3"
  }
 },
 "nbformat": 4,
 "nbformat_minor": 2
}
