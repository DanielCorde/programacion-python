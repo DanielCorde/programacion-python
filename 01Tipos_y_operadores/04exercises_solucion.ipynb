{
 "cells": [
  {
   "cell_type": "markdown",
   "id": "8531109e",
   "metadata": {},
   "source": [
    "## Exercise Block 1\n",
    "All the values your programs use will be directly assigned to variables:\n",
    "\n",
    "- Write a program that calculates the area of a triangle. "
   ]
  },
  {
   "cell_type": "code",
   "execution_count": null,
   "id": "0d6c56e6",
   "metadata": {
    "vscode": {
     "languageId": "plaintext"
    }
   },
   "outputs": [],
   "source": []
  },
  {
   "cell_type": "markdown",
   "id": "a45efba4",
   "metadata": {},
   "source": [
    " \n",
    "- Write a program that calculates both the area and the perimeter of a rectangle.  \n"
   ]
  },
  {
   "cell_type": "code",
   "execution_count": null,
   "id": "d885bd3e",
   "metadata": {
    "vscode": {
     "languageId": "plaintext"
    }
   },
   "outputs": [],
   "source": []
  },
  {
   "cell_type": "markdown",
   "id": "11bcf8a7",
   "metadata": {},
   "source": [
    "- Given three values, `a`, `b`, and `c`, compute the result of this expression:  \n",
    "$$\n",
    "(a + b - c)^3\n",
    "$$"
   ]
  },
  {
   "cell_type": "code",
   "execution_count": null,
   "id": "9275fed7",
   "metadata": {
    "vscode": {
     "languageId": "plaintext"
    }
   },
   "outputs": [],
   "source": []
  }
 ],
 "metadata": {
  "language_info": {
   "name": "python"
  }
 },
 "nbformat": 4,
 "nbformat_minor": 5
}
