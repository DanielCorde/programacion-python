{
 "cells": [
  {
   "cell_type": "markdown",
   "id": "a719d178",
   "metadata": {},
   "source": [
    "## Exercise Block 1\n",
    "1. Use the `print()` function to display the line \"Hello, World!\" on the screen.  \n"
   ]
  },
  {
   "cell_type": "code",
   "execution_count": 2,
   "id": "78522fd2",
   "metadata": {},
   "outputs": [
    {
     "name": "stdout",
     "output_type": "stream",
     "text": [
      "Hello world!\n"
     ]
    }
   ],
   "source": [
    "print(\"Hello world!\")"
   ]
  },
  {
   "cell_type": "markdown",
   "id": "410c645b",
   "metadata": {},
   "source": [
    "2. Once you've done that, use the `print()` function again, but this time print your name.  \n"
   ]
  },
  {
   "cell_type": "code",
   "execution_count": null,
   "id": "e691a28c",
   "metadata": {},
   "outputs": [],
   "source": [
    "print(\"Marta\")"
   ]
  },
  {
   "cell_type": "markdown",
   "id": "249c9300",
   "metadata": {},
   "source": [
    "3. Remove the double quotes and run the code. Observe Python’s reaction. What type of error occurs?  "
   ]
  },
  {
   "cell_type": "code",
   "execution_count": 3,
   "id": "c58cb49c",
   "metadata": {},
   "outputs": [
    {
     "ename": "SyntaxError",
     "evalue": "unterminated string literal (detected at line 1) (2958979387.py, line 1)",
     "output_type": "error",
     "traceback": [
      "\u001b[0;36m  Cell \u001b[0;32mIn[3], line 1\u001b[0;36m\u001b[0m\n\u001b[0;31m    print(Marta\")\u001b[0m\n\u001b[0m               ^\u001b[0m\n\u001b[0;31mSyntaxError\u001b[0m\u001b[0;31m:\u001b[0m unterminated string literal (detected at line 1)\n"
     ]
    }
   ],
   "source": [
    "print(Marta\")"
   ]
  },
  {
   "cell_type": "markdown",
   "id": "b08970e1",
   "metadata": {},
   "source": [
    "4. Then, remove the parentheses, put back the double quotes, and run the code again. What type of error occurs this time?  \n"
   ]
  },
  {
   "cell_type": "code",
   "execution_count": 4,
   "id": "1db308ab",
   "metadata": {},
   "outputs": [
    {
     "ename": "SyntaxError",
     "evalue": "Missing parentheses in call to 'print'. Did you mean print(...)? (3915906994.py, line 1)",
     "output_type": "error",
     "traceback": [
      "\u001b[0;36m  Cell \u001b[0;32mIn[4], line 1\u001b[0;36m\u001b[0m\n\u001b[0;31m    print\"Marta\"\u001b[0m\n\u001b[0m    ^\u001b[0m\n\u001b[0;31mSyntaxError\u001b[0m\u001b[0;31m:\u001b[0m Missing parentheses in call to 'print'. Did you mean print(...)?\n"
     ]
    }
   ],
   "source": [
    "print\"Marta\""
   ]
  },
  {
   "cell_type": "markdown",
   "id": "1d0f75c6",
   "metadata": {},
   "source": [
    "5. Experiment as much as you can. Change the double quotes to single quotes.  \n",
    "6. Use multiple `print()` functions on the same line.  \n"
   ]
  },
  {
   "cell_type": "code",
   "execution_count": 5,
   "id": "638e10c9",
   "metadata": {},
   "outputs": [
    {
     "name": "stdout",
     "output_type": "stream",
     "text": [
      "a\n",
      "b\n"
     ]
    }
   ],
   "source": [
    "print(\"a\"); print(\"b\") # This is not clean code"
   ]
  },
  {
   "cell_type": "markdown",
   "id": "188299c2",
   "metadata": {},
   "source": [
    "7. Use multiple `print()` functions on different lines.  \n"
   ]
  },
  {
   "cell_type": "code",
   "execution_count": 6,
   "id": "24d5074f",
   "metadata": {},
   "outputs": [
    {
     "name": "stdout",
     "output_type": "stream",
     "text": [
      "a\n",
      "b\n"
     ]
    }
   ],
   "source": [
    "print(\"a\")\n",
    "print(\"b\")"
   ]
  },
  {
   "cell_type": "markdown",
   "id": "447236ef",
   "metadata": {},
   "source": [
    "\n",
    "## Exercise Block 2\n",
    "1. Write two `print` statements so that the output is:  \n",
    "```    \n",
    "    Fundamentals***Programming***in```Python\n",
    "```\n"
   ]
  },
  {
   "cell_type": "code",
   "execution_count": 7,
   "id": "8f66b872",
   "metadata": {},
   "outputs": [
    {
     "name": "stdout",
     "output_type": "stream",
     "text": [
      "Fundamentals***Programming***in```Python\n"
     ]
    }
   ],
   "source": [
    "print(\"Fundamentals\", \"Programming\", \"in\", sep=\"***\", end=\"```\")\n",
    "print(\"Python\")"
   ]
  },
  {
   "cell_type": "markdown",
   "id": "0c1aeebe",
   "metadata": {},
   "source": [
    "---\n",
    "Starting from this code:\n"
   ]
  },
  {
   "cell_type": "code",
   "execution_count": 1,
   "id": "05a028a6",
   "metadata": {},
   "outputs": [
    {
     "name": "stdout",
     "output_type": "stream",
     "text": [
      "    *\n",
      "   * *\n",
      "  *   *\n",
      " *     *\n",
      "***   ***\n",
      "  *   *\n",
      "  *   *\n",
      "  *****\n"
     ]
    }
   ],
   "source": [
    "print(\"    *\")\n",
    "print(\"   * *\")\n",
    "print(\"  *   *\")\n",
    "print(\" *     *\")\n",
    "print(\"***   ***\")\n",
    "print(\"  *   *\")\n",
    "print(\"  *   *\")\n",
    "print(\"  *****\")"
   ]
  },
  {
   "cell_type": "markdown",
   "id": "0d9502f6",
   "metadata": {},
   "source": [
    "Modify it to:  \n",
    "2. Minimize the number of invocations of the `print()` function by inserting the sequence `\\n` in the strings.  "
   ]
  },
  {
   "cell_type": "code",
   "execution_count": 10,
   "id": "5b4ea1a7",
   "metadata": {},
   "outputs": [
    {
     "name": "stdout",
     "output_type": "stream",
     "text": [
      "     * \n",
      "    * * \n",
      "   *   * \n",
      "  *     * \n",
      " ***   *** \n",
      "   *   * \n",
      "   *   * \n",
      "   *****\n"
     ]
    }
   ],
   "source": [
    "print(\"     *\", \"\\n\",\"   * *\", \"\\n\", \"  *   *\", \"\\n\", \" *     *\", \"\\n\", \"***   ***\", \"\\n\", \"  *   *\", \"\\n\",\"  *   *\", \"\\n\", \"  *****\")\n",
    "# This is not clean code"
   ]
  },
  {
   "cell_type": "markdown",
   "id": "f1e8fc45",
   "metadata": {},
   "source": [
    "3. Duplicate the arrow, placing both arrows side by side; note: a string can be multiplied using the following trick: `\"string\" * 2` will produce `\"stringstring\"`. "
   ]
  },
  {
   "cell_type": "code",
   "execution_count": 15,
   "id": "318df0ff",
   "metadata": {},
   "outputs": [
    {
     "name": "stdout",
     "output_type": "stream",
     "text": [
      "    *        *    \n",
      "   * *      * *   \n",
      "  *   *    *   *  \n",
      " *     *  *     * \n",
      "***   ******   ***\n",
      "  *   *    *   *  \n",
      "  *   *    *   *  \n",
      "  *****    *****  \n"
     ]
    }
   ],
   "source": [
    "print(\"    *    \"*2)\n",
    "print(\"   * *   \"*2)\n",
    "print(\"  *   *  \"*2)\n",
    "print(\" *     * \"*2)\n",
    "print(\"***   ***\"*2)\n",
    "print(\"  *   *  \"*2)\n",
    "print(\"  *   *  \"*2)\n",
    "print(\"  *****  \"*2)"
   ]
  },
  {
   "cell_type": "markdown",
   "id": "840f1778",
   "metadata": {},
   "source": [
    " \n",
    "4. Remove one of the quotation marks and carefully observe Python’s response; pay attention to where Python sees an error. Is it really the place where the error exists?"
   ]
  },
  {
   "cell_type": "code",
   "execution_count": 18,
   "id": "16dc7b6c",
   "metadata": {},
   "outputs": [
    {
     "ename": "SyntaxError",
     "evalue": "'(' was never closed (439584660.py, line 4)",
     "output_type": "error",
     "traceback": [
      "\u001b[0;36m  Cell \u001b[0;32mIn[18], line 4\u001b[0;36m\u001b[0m\n\u001b[0;31m    print(\"*     *\"\u001b[0m\n\u001b[0m         ^\u001b[0m\n\u001b[0;31mSyntaxError\u001b[0m\u001b[0;31m:\u001b[0m '(' was never closed\n"
     ]
    }
   ],
   "source": [
    "print(\"    *\")\n",
    "print(\"   * *\")\n",
    "print(\"  *   *\")\n",
    "print(\"*     *\"\n",
    "print(\"***   ***\")\n",
    "print(\"  *   *\")\n",
    "print(\"  *   *\")\n",
    "print(\"  *****\")"
   ]
  },
  {
   "cell_type": "markdown",
   "id": "2cfbc9a6",
   "metadata": {},
   "source": [
    "  \n",
    "Do the same with some of the parentheses.  \n",
    "5. Replace some of the double quotes with apostrophes (single quotes); carefully observe what happens."
   ]
  },
  {
   "cell_type": "code",
   "execution_count": 20,
   "id": "0b38df95",
   "metadata": {},
   "outputs": [
    {
     "name": "stdout",
     "output_type": "stream",
     "text": [
      "    *\n",
      "   * *\n",
      "  *   *\n",
      "*     *\n",
      "***   ***\n",
      "  *   *\n",
      "  *   *\n",
      "  *****\n"
     ]
    }
   ],
   "source": [
    "print(\"    *\")\n",
    "print(\"   * *\")\n",
    "print(\"  *   *\")\n",
    "print(\"*     *')\n",
    "print(\"***   ***\")\n",
    "print(\"  *   *\")\n",
    "print(\"  *   *\")\n",
    "print(\"  *****\")"
   ]
  }
 ],
 "metadata": {
  "kernelspec": {
   "display_name": "Python 3",
   "language": "python",
   "name": "python3"
  },
  "language_info": {
   "codemirror_mode": {
    "name": "ipython",
    "version": 3
   },
   "file_extension": ".py",
   "mimetype": "text/x-python",
   "name": "python",
   "nbconvert_exporter": "python",
   "pygments_lexer": "ipython3",
   "version": "3.12.3"
  }
 },
 "nbformat": 4,
 "nbformat_minor": 5
}
