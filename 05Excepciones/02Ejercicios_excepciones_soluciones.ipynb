{
 "cells": [
  {
   "cell_type": "markdown",
   "metadata": {},
   "source": [
    "# Ejercicios\n",
    "\n",
    "## Ejercicio 1\n",
    "\n",
    "Crea un programa en Python que tenga definido una lista de 7 posiciones que representan la temperatura máxima de cada día de la semana en una ciudad.\n",
    "\n",
    "Solicita al usuario que introduzca dos posiciones, y calculará la temperatura media entre esos días. Si los valores introducidos no son válidos, por estar fuera de los límites de la lista se capturará la excepción y la media será cero."
   ]
  },
  {
   "cell_type": "code",
   "execution_count": 3,
   "metadata": {},
   "outputs": [
    {
     "name": "stdout",
     "output_type": "stream",
     "text": [
      "Días introducidos incorrectos\n",
      "La media es 0\n"
     ]
    }
   ],
   "source": [
    "temperaturas = [15, 17, 21, 23, 14, 12, 11]\n",
    "\n",
    "d1 = int(input(\"Introduce un día de la semana (Lunes:0, Viernes: 6)\"))\n",
    "d2 = int(input(\"Introduce otro día de la semana (Lunes:0, Viernes: 6)\"))\n",
    "\n",
    "try:\n",
    "    media = (temperaturas[d1] + temperaturas[d2]) / 2\n",
    "except IndexError:\n",
    "    print(\"Días introducidos incorrectos\")\n",
    "    media = 0\n",
    "\n",
    "print(\"La media es\", media)"
   ]
  },
  {
   "cell_type": "code",
   "execution_count": 2,
   "metadata": {},
   "outputs": [
    {
     "name": "stdout",
     "output_type": "stream",
     "text": [
      "Días introducidos incorrectos\n",
      "La media es 18.5\n"
     ]
    }
   ],
   "source": [
    "temperaturas = [15, 17, 21, 23, 14, 12, 11]\n",
    "\n",
    "correctos = False\n",
    "while not correctos:\n",
    "    try:\n",
    "        d1 = int(input(\"Introduce un día de la semana (Lunes:0, Viernes: 6)\"))\n",
    "        d2 = int(input(\"Introduce otro día de la semana (Lunes:0, Viernes: 6)\"))\n",
    "        media = (temperaturas[d1] + temperaturas[d2]) / 2\n",
    "        correctos = True\n",
    "    except IndexError:\n",
    "        print(\"Días introducidos incorrectos\")\n",
    "        media = 0\n",
    "\n",
    "print(\"La media es\", media)"
   ]
  },
  {
   "cell_type": "markdown",
   "metadata": {},
   "source": [
    "## Ejercicio 2\n",
    "Usando control de excepciones, crea un programa que solicite al usuario un número y muestre por pantalla el valor de la raíz cuadrada de ese número. Si el número es negativo se mostrará un mensaje indicando que no es posible calcular la raíz cuadrada de un número negativo."
   ]
  },
  {
   "cell_type": "code",
   "execution_count": null,
   "metadata": {},
   "outputs": [],
   "source": [
    "import math\n",
    "\n",
    "try:\n",
    "    numero = float(input(\"Introduce un número\"))\n",
    "    raiz = math.sqrt(numero)\n",
    "    print(raiz)\n",
    "except ValueError:\n",
    "    print(\"No puedo operar con esa entrada\")"
   ]
  },
  {
   "cell_type": "code",
   "execution_count": null,
   "metadata": {},
   "outputs": [],
   "source": [
    "import math\n",
    "\n",
    "try:\n",
    "    numero = float(input(\"Introduce un número\"))\n",
    "    try:\n",
    "        raiz = math.sqrt(numero)\n",
    "        print(raiz)\n",
    "    except ValueError:\n",
    "        print(\"La raíz de un número negativo no es real.\")\n",
    "except ValueError:\n",
    "    print(\"Eso no es un número real.\")"
   ]
  },
  {
   "cell_type": "markdown",
   "metadata": {},
   "source": [
    "## Ejercicio 3\n",
    "Modifica el programa anterior para que el programa siga pidiendo un valor hasta que el usuario introduzca un número positivo."
   ]
  },
  {
   "cell_type": "code",
   "execution_count": null,
   "metadata": {},
   "outputs": [],
   "source": [
    "import math\n",
    "\n",
    "valor_correcto = False\n",
    "\n",
    "while not valor_correcto:\n",
    "    try:\n",
    "        numero = float(input(\"Introduce un número\"))\n",
    "        try:\n",
    "            raiz = math.sqrt(numero)\n",
    "            print(raiz)\n",
    "            valor_correcto = True\n",
    "        except ValueError:\n",
    "            print(\"La raíz de un número negativo no es real.\")\n",
    "    except ValueError:\n",
    "        print(\"Eso no es un número real.\")"
   ]
  },
  {
   "cell_type": "markdown",
   "metadata": {},
   "source": [
    "## Ejercicio 4\n",
    "\n",
    "Investiga el funcionamiento del método `index()` de las listas. ¿Qué ocurre si el elemento no se encuentra en la lista?\n",
    "\n",
    "Crea una lista con los nombres de los meses del año. Solicita al usuario que introduzca un nombre de mes. Si el nombre se encuentra en la lista, se mostrará el número de mes. Si el nombre no se encuentra en la lista, se mostrará un mensaje indicando que no existe ese mes, y se volverá a solicitar al usuario que introduzca un nombre de mes, hasta que introduzca el nombre de un mes válido."
   ]
  },
  {
   "cell_type": "code",
   "execution_count": 3,
   "metadata": {},
   "outputs": [
    {
     "name": "stdout",
     "output_type": "stream",
     "text": [
      "Ese mes no es válido. Por favor, revisa tu ortografía e introduce un mes de nuevo.\n",
      "Febrero es el mes número 2\n"
     ]
    }
   ],
   "source": [
    "meses = (\"Enero\", \"Febrero\", \"Marzo\", \"Abril\", \"Mayo\", \"Junio\", \"Julio\",\n",
    "\"Agosto\", \"Septiembre\", \"Octubre\", \"Noviembre\", \"Diciembre\")\n",
    "\n",
    "valor_correcto = False\n",
    "\n",
    "while not valor_correcto:\n",
    "    mes_usuario = input(\"Dame un mes por favor: \").capitalize()\n",
    "\n",
    "    try:\n",
    "        print(f\"{mes_usuario} es el mes número {meses.index(mes_usuario) + 1}\")\n",
    "        valor_correcto = True\n",
    "    except ValueError:\n",
    "        print(\"Ese mes no es válido. Por favor, revisa tu ortografía e introduce un mes de nuevo.\")"
   ]
  },
  {
   "cell_type": "markdown",
   "metadata": {},
   "source": [
    "## Ejercicio 5\n",
    "\n",
    "Volviendo a utilizar el método `index()` de las listas, a partir de una lista con los nombres de las personas que forman un grupo, solicita al usuario que introduzca un nombre y cuenta cuántas veces aparece dicho nombre en la lista."
   ]
  },
  {
   "cell_type": "code",
   "execution_count": 4,
   "metadata": {},
   "outputs": [
    {
     "name": "stdout",
     "output_type": "stream",
     "text": [
      "3\n"
     ]
    }
   ],
   "source": [
    "lista = [\"Elena\", \"María\", \"Mario\", \"Elena\", \"Juan\", \"Elena\", \"Pepe\"]\n",
    "\n",
    "nombre = input(\"Introduce un nombre:\")\n",
    "inicio = 0 # Inicialmente empiezo a buscar desde el principio\n",
    "contador = 0\n",
    "hai_mas = True\n",
    "\n",
    "while hai_mas:\n",
    "    try:\n",
    "        posicion = lista.index(nombre, inicio)\n",
    "        inicio = posicion + 1\n",
    "        contador += 1\n",
    "    except ValueError:\n",
    "        hai_mas = False\n",
    "\n",
    "print(contador)"
   ]
  }
 ],
 "metadata": {
  "kernelspec": {
   "display_name": "Python 3",
   "language": "python",
   "name": "python3"
  },
  "language_info": {
   "codemirror_mode": {
    "name": "ipython",
    "version": 3
   },
   "file_extension": ".py",
   "mimetype": "text/x-python",
   "name": "python",
   "nbconvert_exporter": "python",
   "pygments_lexer": "ipython3",
   "version": "3.12.3"
  }
 },
 "nbformat": 4,
 "nbformat_minor": 2
}
