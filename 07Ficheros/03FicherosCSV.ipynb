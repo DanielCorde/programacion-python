{
 "cells": [
  {
   "cell_type": "markdown",
   "metadata": {},
   "source": [
    "# Archivos CSV en Python\n",
    "\n",
    "Los archivos CSV (Comma Separated Values) son un tipo de archivo que se utiliza para almacenar datos tabulares. En este tipo de archivos, cada línea representa una fila de la tabla, y los valores de cada fila están separados por comas.\n",
    "\n",
    "Es muy fácil crearlos utilizando una hoja de cálculo, encontraremos el formato CSV como una opción para guardar el archivo. \n"
   ]
  },
  {
   "cell_type": "markdown",
   "metadata": {},
   "source": [
    "## Escritura de un archivo CSV"
   ]
  },
  {
   "cell_type": "code",
   "execution_count": null,
   "metadata": {},
   "outputs": [],
   "source": [
    "import csv\n",
    "\n",
    "with open('ejemplo.csv', 'w', newline='') as archivo:\n",
    "    escritor = csv.writer(archivo)\n",
    "    escritor.writerow(['Nombre', 'Edad', 'Ciudad'])\n",
    "    escritor.writerow(['Juan', 25, 'Madrid'])\n",
    "    escritor.writerow(['Ana', 30, 'Barcelona'])\n"
   ]
  },
  {
   "cell_type": "markdown",
   "metadata": {},
   "source": [
    "Utilizamos newlline='' para evitar que se agregue una línea en blanco entre cada fila, puesto que los sistemas Windows podrían agregar una línea en blanco si no se especifica, ya que el retorno de carro en Windows es '\\r\\n' y en Linux es '\\n'.\n",
    "\n",
    "Al indicar `newline=''` estamos indicando que no realice ninguna conversión de los saltos de línea.\n",
    "\n",
    "```python"
   ]
  },
  {
   "cell_type": "markdown",
   "metadata": {},
   "source": [
    "## Lectura de un archivo CSV\n",
    "\n",
    "Al leer un archivo CSV, Python nos devuelve un objeto de tipo `csv.reader`, que podemos recorrer con un bucle `for` para leer cada fila del archivo. Cada fila de archivo se convierte en una lista de Python, donde cada elemento de la lista es un valor de la fila."
   ]
  },
  {
   "cell_type": "code",
   "execution_count": null,
   "metadata": {},
   "outputs": [],
   "source": [
    "import csv\n",
    "\n",
    "with open('ejemplo.csv', 'r') as archivo:\n",
    "    lector = csv.reader(archivo)\n",
    "    for fila in lector:\n",
    "        print(fila)\n",
    "        for i in range(len(fila)):\n",
    "            print(f\"Elemento {i}: {fila[i]}\")"
   ]
  },
  {
   "cell_type": "markdown",
   "metadata": {},
   "source": [
    "## Escritura a partir de diccionarios"
   ]
  },
  {
   "cell_type": "code",
   "execution_count": 1,
   "metadata": {},
   "outputs": [],
   "source": [
    "import csv\n",
    "\n",
    "# Datos de ejemplo con DNI y cursos españoles\n",
    "datos_alumnos = [\n",
    "    {\"DNI\": \"12345678A\", \"Nombre\": \"Juan Pérez\", \"Edad\": 15, \"Curso\": \"4º ESO A\", \"Media\": 8.5},\n",
    "    {\"DNI\": \"23456789B\", \"Nombre\": \"Ana López\", \"Edad\": 16, \"Curso\": \"4º ESO B\", \"Media\": 9.0},\n",
    "    {\"DNI\": \"34567890C\", \"Nombre\": \"Carlos Ruiz\", \"Edad\": 15, \"Curso\": \"4º ESO A\", \"Media\": 7.8},\n",
    "    {\"DNI\": \"45678901D\", \"Nombre\": \"María Gómez\", \"Edad\": 16, \"Curso\": \"4º ESO C\", \"Media\": 8.9},\n",
    "    {\"DNI\": \"56789012E\", \"Nombre\": \"Luis Torres\", \"Edad\": 15, \"Curso\": \"4º ESO B\", \"Media\": 7.5},\n",
    "    {\"DNI\": \"67890123F\", \"Nombre\": \"Elena Sánchez\", \"Edad\": 16, \"Curso\": \"4º ESO A\", \"Media\": 9.2},\n",
    "    {\"DNI\": \"78901234G\", \"Nombre\": \"Pedro Ramírez\", \"Edad\": 15, \"Curso\": \"4º ESO C\", \"Media\": 8.0},\n",
    "    {\"DNI\": \"89012345H\", \"Nombre\": \"Lucía Fernández\", \"Edad\": 16, \"Curso\": \"4º ESO B\", \"Media\": 8.7},\n",
    "    {\"DNI\": \"90123456I\", \"Nombre\": \"Sofía Martínez\", \"Edad\": 15, \"Curso\": \"4º ESO A\", \"Media\": 9.1},\n",
    "    {\"DNI\": \"01234567J\", \"Nombre\": \"Diego Castro\", \"Edad\": 16, \"Curso\": \"4º ESO C\", \"Media\": 7.9}\n",
    "]\n",
    "\n",
    "# Crear el archivo CSV\n",
    "nombre_archivo = \"alumnos_instituto.csv\"\n",
    "with open(nombre_archivo, \"w\", newline=\"\", encoding=\"utf-8\") as archivo:\n",
    "    escritor = csv.DictWriter(archivo, fieldnames=[\"DNI\", \"Nombre\", \"Edad\", \"Curso\", \"Media\"])\n",
    "    escritor.writeheader()\n",
    "    escritor.writerows(datos_alumnos)"
   ]
  }
 ],
 "metadata": {
  "kernelspec": {
   "display_name": "Python 3",
   "language": "python",
   "name": "python3"
  },
  "language_info": {
   "codemirror_mode": {
    "name": "ipython",
    "version": 3
   },
   "file_extension": ".py",
   "mimetype": "text/x-python",
   "name": "python",
   "nbconvert_exporter": "python",
   "pygments_lexer": "ipython3",
   "version": "3.12.3"
  }
 },
 "nbformat": 4,
 "nbformat_minor": 2
}
